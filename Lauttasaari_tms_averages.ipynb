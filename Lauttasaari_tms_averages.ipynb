{
 "cells": [
  {
   "cell_type": "markdown",
   "metadata": {},
   "source": [
    "# Exploratory Data Analysis of traffic data at Road 51 Hanasaari"
   ]
  },
  {
   "cell_type": "code",
   "execution_count": 15,
   "metadata": {},
   "outputs": [],
   "source": [
    "import pandas as pd"
   ]
  },
  {
   "cell_type": "markdown",
   "metadata": {},
   "source": [
    "Data source: https://www.avoindata.fi/data/fi/dataset/liikennemaarat-helsingissa\n",
    "\n",
    "Legend: ha=henkilöautot pa=pakettiautot ka=kuorma-autot ra=rekka-autot la=linja-autot mp=moottoripyörät rv=raitiovaunut"
   ]
  },
  {
   "cell_type": "code",
   "execution_count": 30,
   "metadata": {},
   "outputs": [
    {
     "data": {
      "text/html": [
       "<div>\n",
       "<style>\n",
       "    .dataframe thead tr:only-child th {\n",
       "        text-align: right;\n",
       "    }\n",
       "\n",
       "    .dataframe thead th {\n",
       "        text-align: left;\n",
       "    }\n",
       "\n",
       "    .dataframe tbody tr th {\n",
       "        vertical-align: top;\n",
       "    }\n",
       "</style>\n",
       "<table border=\"1\" class=\"dataframe\">\n",
       "  <thead>\n",
       "    <tr style=\"text-align: right;\">\n",
       "      <th></th>\n",
       "      <th>piste</th>\n",
       "      <th>nimi</th>\n",
       "      <th>x_gk25</th>\n",
       "      <th>y_gk25</th>\n",
       "      <th>suunta</th>\n",
       "      <th>aika</th>\n",
       "      <th>vuosi</th>\n",
       "      <th>ha</th>\n",
       "      <th>pa</th>\n",
       "      <th>ka</th>\n",
       "      <th>ra</th>\n",
       "      <th>la</th>\n",
       "      <th>mp</th>\n",
       "      <th>rv</th>\n",
       "      <th>autot</th>\n",
       "    </tr>\n",
       "  </thead>\n",
       "  <tbody>\n",
       "    <tr>\n",
       "      <th>0</th>\n",
       "      <td>A01</td>\n",
       "      <td>LAUTTASAAREN SILTA</td>\n",
       "      <td>25494426</td>\n",
       "      <td>6672169</td>\n",
       "      <td>1.0</td>\n",
       "      <td>0</td>\n",
       "      <td>2011</td>\n",
       "      <td>76</td>\n",
       "      <td>5</td>\n",
       "      <td>1</td>\n",
       "      <td>0</td>\n",
       "      <td>5</td>\n",
       "      <td>0</td>\n",
       "      <td>0</td>\n",
       "      <td>87</td>\n",
       "    </tr>\n",
       "    <tr>\n",
       "      <th>1</th>\n",
       "      <td>A01</td>\n",
       "      <td>LAUTTASAAREN SILTA</td>\n",
       "      <td>25494426</td>\n",
       "      <td>6672169</td>\n",
       "      <td>1.0</td>\n",
       "      <td>100</td>\n",
       "      <td>2011</td>\n",
       "      <td>65</td>\n",
       "      <td>5</td>\n",
       "      <td>1</td>\n",
       "      <td>0</td>\n",
       "      <td>4</td>\n",
       "      <td>0</td>\n",
       "      <td>0</td>\n",
       "      <td>75</td>\n",
       "    </tr>\n",
       "    <tr>\n",
       "      <th>2</th>\n",
       "      <td>A01</td>\n",
       "      <td>LAUTTASAAREN SILTA</td>\n",
       "      <td>25494426</td>\n",
       "      <td>6672169</td>\n",
       "      <td>1.0</td>\n",
       "      <td>200</td>\n",
       "      <td>2011</td>\n",
       "      <td>61</td>\n",
       "      <td>4</td>\n",
       "      <td>1</td>\n",
       "      <td>0</td>\n",
       "      <td>4</td>\n",
       "      <td>0</td>\n",
       "      <td>0</td>\n",
       "      <td>70</td>\n",
       "    </tr>\n",
       "    <tr>\n",
       "      <th>3</th>\n",
       "      <td>A01</td>\n",
       "      <td>LAUTTASAAREN SILTA</td>\n",
       "      <td>25494426</td>\n",
       "      <td>6672169</td>\n",
       "      <td>1.0</td>\n",
       "      <td>300</td>\n",
       "      <td>2011</td>\n",
       "      <td>52</td>\n",
       "      <td>4</td>\n",
       "      <td>1</td>\n",
       "      <td>0</td>\n",
       "      <td>3</td>\n",
       "      <td>0</td>\n",
       "      <td>0</td>\n",
       "      <td>60</td>\n",
       "    </tr>\n",
       "    <tr>\n",
       "      <th>4</th>\n",
       "      <td>A01</td>\n",
       "      <td>LAUTTASAAREN SILTA</td>\n",
       "      <td>25494426</td>\n",
       "      <td>6672169</td>\n",
       "      <td>1.0</td>\n",
       "      <td>400</td>\n",
       "      <td>2011</td>\n",
       "      <td>31</td>\n",
       "      <td>2</td>\n",
       "      <td>0</td>\n",
       "      <td>0</td>\n",
       "      <td>2</td>\n",
       "      <td>0</td>\n",
       "      <td>0</td>\n",
       "      <td>35</td>\n",
       "    </tr>\n",
       "  </tbody>\n",
       "</table>\n",
       "</div>"
      ],
      "text/plain": [
       "  piste                nimi    x_gk25   y_gk25  suunta  aika  vuosi  ha  pa  \\\n",
       "0   A01  LAUTTASAAREN SILTA  25494426  6672169     1.0     0   2011  76   5   \n",
       "1   A01  LAUTTASAAREN SILTA  25494426  6672169     1.0   100   2011  65   5   \n",
       "2   A01  LAUTTASAAREN SILTA  25494426  6672169     1.0   200   2011  61   4   \n",
       "3   A01  LAUTTASAAREN SILTA  25494426  6672169     1.0   300   2011  52   4   \n",
       "4   A01  LAUTTASAAREN SILTA  25494426  6672169     1.0   400   2011  31   2   \n",
       "\n",
       "   ka  ra  la  mp  rv  autot  \n",
       "0   1   0   5   0   0     87  \n",
       "1   1   0   4   0   0     75  \n",
       "2   1   0   4   0   0     70  \n",
       "3   1   0   3   0   0     60  \n",
       "4   0   0   2   0   0     35  "
      ]
     },
     "execution_count": 30,
     "metadata": {},
     "output_type": "execute_result"
    }
   ],
   "source": [
    "data = pd.read_csv('data/hki_liikennemaarat.csv', encoding='latin-1',delimiter=';')\n",
    "data.head()"
   ]
  },
  {
   "cell_type": "markdown",
   "metadata": {},
   "source": [
    "Remove data about trams and other measurement points."
   ]
  },
  {
   "cell_type": "code",
   "execution_count": null,
   "metadata": {},
   "outputs": [],
   "source": []
  }
 ],
 "metadata": {
  "kernelspec": {
   "display_name": "Python 3",
   "language": "python",
   "name": "python3"
  },
  "language_info": {
   "codemirror_mode": {
    "name": "ipython",
    "version": 3
   },
   "file_extension": ".py",
   "mimetype": "text/x-python",
   "name": "python",
   "nbconvert_exporter": "python",
   "pygments_lexer": "ipython3",
   "version": "3.6.3"
  }
 },
 "nbformat": 4,
 "nbformat_minor": 2
}
